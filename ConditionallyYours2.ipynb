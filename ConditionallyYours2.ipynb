{
 "cells": [
  {
   "cell_type": "code",
   "execution_count": 6,
   "id": "af92b7ad-bd6f-49f1-9be3-868727911e51",
   "metadata": {},
   "outputs": [
    {
     "name": "stdout",
     "output_type": "stream",
     "text": [
      "-18.598584709310405\n",
      "Netflix's original stock price was $360.35\n",
      "Recommendation: buy\n",
      "\n"
     ]
    }
   ],
   "source": [
    "current_price = 293.33\n",
    "original_price = 360.35\n",
    "increase = current_price - original_price\n",
    "percent_increase = increase / original_price * 100\n",
    "\n",
    "print(percent_increase)\n",
    "\n",
    "if percent_increase > .20:\n",
    "    Print(\"Buy\")\n",
    "    Print(\"sell\")\n",
    "          \n",
    "\n",
    "    \n",
    "# Increase = Current Price - Original Price\n",
    "# Percent Increase = Increase / Original x 100\n",
    "\n",
    "# Create integer variable for original_price\n",
    "\n",
    "\n",
    "# Create integer variable for current_price\n",
    "\n",
    "\n",
    "# Create float for threshold_to_buy\n",
    "\n",
    "\n",
    "# Create float for threshold_to_sell\n",
    "\n",
    "\n",
    "# Create float for portfolio balance\n",
    "\n",
    "\n",
    "# Create float for balance check\n",
    "\n",
    "\n",
    "# Create string for recommendation, default will be buy\n",
    "recommendation = \"buy\"\n",
    "\n",
    "# Calculate difference between current_price and original_price\n",
    "\n",
    "\n",
    "# Calculate percent increase\n",
    "\n",
    "\n",
    "# Print original_price\n",
    "print(f\"Netflix's original stock price was ${original_price}\")\n",
    "\n",
    "# Print current_price\n",
    "\n",
    "\n",
    "# Print percent increase\n",
    "\n",
    "\n",
    "# Determine if stock should be bought or sold\n",
    "\n",
    "\n",
    "# Print recommendation\n",
    "print(\"Recommendation: \" + recommendation)\n",
    "print()\n"
   ]
  },
  {
   "cell_type": "code",
   "execution_count": null,
   "id": "238291d6-e2a5-4ce9-8410-a010b78132e0",
   "metadata": {},
   "outputs": [],
   "source": []
  },
  {
   "cell_type": "code",
   "execution_count": null,
   "id": "b01b5b9c-7ae4-45b4-a998-0c0905c3d600",
   "metadata": {},
   "outputs": [],
   "source": []
  }
 ],
 "metadata": {
  "kernelspec": {
   "display_name": "Python 3 (ipykernel)",
   "language": "python",
   "name": "python3"
  },
  "language_info": {
   "codemirror_mode": {
    "name": "ipython",
    "version": 3
   },
   "file_extension": ".py",
   "mimetype": "text/x-python",
   "name": "python",
   "nbconvert_exporter": "python",
   "pygments_lexer": "ipython3",
   "version": "3.7.13"
  }
 },
 "nbformat": 4,
 "nbformat_minor": 5
}
